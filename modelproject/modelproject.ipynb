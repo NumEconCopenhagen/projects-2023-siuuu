{
 "cells": [
  {
   "cell_type": "markdown",
   "metadata": {},
   "source": [
    "# YOUR PROJECT TITLE"
   ]
  },
  {
   "attachments": {},
   "cell_type": "markdown",
   "metadata": {},
   "source": [
    "# OLG Economy (Diamond Model)\n",
    "\n",
    "The Overlapping Generations (OLG) Diamond model, developed by Peter Diamond in the 1960s, is a widely used framework in economics to examine intergenerational dynamics and various economic phenomena. This model offers valuable insights into the interactions between different generations, capital accumulation, and economic growth.\n",
    "\n",
    "One key feature of the OLG Diamond model is its intergenerational aspect. The model assumes that individuals are born into the young generation and progress through the life cycle. When individuals reach the old stage, they retire and transfer their accumulated wealth to the next generation. This intergenerational transfer mechanism is a fundamental aspect of the model and plays a crucial role in determining economic outcomes and welfare.\n",
    "\n",
    "We will investigate how households optimize their consumption, saving, and labor supply decisions over their lifetimes. By examining the equilibrium conditions of the model, we aim to understand the factors that drive consumption, savings, and welfare outcomes in an OLG Diamond framework.\n",
    "\n",
    "The utility is given by:\n",
    "\n",
    "$$ U = \\ln(c_{1t}) + \\beta \\ln(c_{2t+1}), \\beta \\in [0,1]$$\n",
    "\n",
    "The single period dynamic budget constraints are:\n",
    "\n",
    "$$ c_{1t} = w_t - s_t $$\n",
    "$$ c_{2t+1} = (1+r_{t+1}) s_t $$\n",
    "\n",
    "The intertemporal Budget Constraint (IBC) is:\n",
    "\n",
    "$$ c_{1t} + \\frac{c_{2t+1}}{1+r_{t+1}} = w_t $$\n",
    "\n"
   ]
  },
  {
   "attachments": {},
   "cell_type": "markdown",
   "metadata": {},
   "source": [
    "We start off by importing all the relevant packages for our analysis"
   ]
  },
  {
   "cell_type": "code",
   "execution_count": 1,
   "metadata": {},
   "outputs": [],
   "source": [
    "import numpy as np\n",
    "from scipy import optimize\n",
    "import sympy as sm\n",
    "sm.init_printing(use_unicode=True)\n",
    "\n",
    "%matplotlib inline\n",
    "import matplotlib.pyplot as plt\n",
    "plt.style.use('seaborn-whitegrid')\n",
    "from matplotlib import cm\n",
    "import ipywidgets as widgets"
   ]
  },
  {
   "attachments": {},
   "cell_type": "markdown",
   "metadata": {},
   "source": [
    "We are now defining all the variables and parameters from our model. "
   ]
  },
  {
   "cell_type": "code",
   "execution_count": 2,
   "metadata": {},
   "outputs": [],
   "source": [
    "# Variables and parameters from utility function\n",
    "C1t = sm.symbols('C_1t')\n",
    "C2t_1 = sm.symbols('C_2t+1')\n",
    "U_t = sm.symbols('U_t')\n",
    "\n",
    "# Variables and parameters from budget constraint and period constraints\n",
    "alpha = sm.symbols('alpha')\n",
    "beta = sm.symbols('beta')\n",
    "w_t = sm.symbols('w_t')\n",
    "k_t = sm.symbols('k_t')\n",
    "r_t = sm.symbols('r_t')\n",
    "r_t1 = sm.symbols('r_t+1')\n",
    "\n",
    "At = sm.symbols('A_t') \n",
    "St = sm.symbols('S_t') \n",
    "s = sm.symbols('s(r_t+1)') "
   ]
  },
  {
   "cell_type": "code",
   "execution_count": 10,
   "metadata": {},
   "outputs": [
    {
     "name": "stdout",
     "output_type": "stream",
     "text": [
      "Budget constraints are given as:\n"
     ]
    },
    {
     "data": {
      "image/png": "[encoded data removed]",
      "text/latex": [
       "$\\displaystyle C_{1t} + S_{t} = w_{t}$"
      ],
      "text/plain": [
       "C₁ₜ + Sₜ = wₜ"
      ]
     },
     "metadata": {},
     "output_type": "display_data"
    },
    {
     "data": {
      "image/png": "[encoded data removed]",
      "text/latex": [
       "$\\displaystyle C_{2t+1} = S_{t} \\left(r_{t+1} + 1\\right)$"
      ],
      "text/plain": [
       "C₂ₜ₊₁ = Sₜ⋅(rₜ₊₁ + 1)"
      ]
     },
     "metadata": {},
     "output_type": "display_data"
    },
    {
     "name": "stdout",
     "output_type": "stream",
     "text": [
      "Then we combine the constraints:\n"
     ]
    },
    {
     "data": {
      "image/png": "[encoded data removed]",
      "text/latex": [
       "$\\displaystyle C_{1t} + \\frac{C_{2t+1}}{r_{t+1} + 1} = w_{t}$"
      ],
      "text/plain": [
       "       C₂ₜ₊₁       \n",
       "C₁ₜ + ──────── = wₜ\n",
       "      rₜ₊₁ + 1     "
      ]
     },
     "metadata": {},
     "output_type": "display_data"
    }
   ],
   "source": [
    "# Defining utility function and constraints\n",
    "U = sm.log(C1t) + beta * sm.log(C2t_1)\n",
    "cons1 = sm.Eq(C1t + St, w_t)\n",
    "cons2 = sm.Eq(C2t_1, (1+r_t1)*St)\n",
    "\n",
    "# To find one budget constraint we solve for s_t:\n",
    "st_from_cons2 = sm.solve(cons2, St)\n",
    "cons1_with_st = cons1.subs(St, st_from_cons2[0])\n",
    "\n",
    "print('Budget constraints are given as:')\n",
    "display(cons1)\n",
    "display(cons2)\n",
    "print('Then we combine the constraints:')\n",
    "display(cons1_with_st)\n",
    "\n",
    "\n"
   ]
  },
  {
   "cell_type": "code",
   "execution_count": 15,
   "metadata": {},
   "outputs": [
    {
     "name": "stdout",
     "output_type": "stream",
     "text": [
      "optimal Consumption in period 1:\n"
     ]
    },
    {
     "data": {
      "image/png": "[encoded data removed]",
      "text/latex": [
       "$\\displaystyle C_{1t} = \\frac{w_{t}}{\\beta + 1}$"
      ],
      "text/plain": [
       "        wₜ \n",
       "C₁ₜ = ─────\n",
       "      β + 1"
      ]
     },
     "metadata": {},
     "output_type": "display_data"
    },
    {
     "name": "stdout",
     "output_type": "stream",
     "text": [
      "optimal Consumption in period 2:\n"
     ]
    },
    {
     "data": {
      "image/png": "[encoded data removed]",
      "text/latex": [
       "$\\displaystyle C_{2t+1} = \\frac{\\beta w_{t} \\left(r_{t+1} + 1\\right)}{\\beta + 1}$"
      ],
      "text/plain": [
       "        β⋅wₜ⋅(rₜ₊₁ + 1)\n",
       "C₂ₜ₊₁ = ───────────────\n",
       "             β + 1     "
      ]
     },
     "metadata": {},
     "output_type": "display_data"
    },
    {
     "name": "stdout",
     "output_type": "stream",
     "text": [
      "Euler Equation:\n"
     ]
    },
    {
     "data": {
      "image/png": "[encoded data removed]",
      "text/latex": [
       "$\\displaystyle \\frac{C_{2t+1}}{C_{1t}} = \\beta \\left(r_{t+1} + 1\\right)$"
      ],
      "text/plain": [
       "C₂ₜ₊₁               \n",
       "───── = β⋅(rₜ₊₁ + 1)\n",
       " C₁ₜ                "
      ]
     },
     "metadata": {},
     "output_type": "display_data"
    }
   ],
   "source": [
    "C2t_1_from_cons = sm.solve(cons1_with_st, C2t_1)\n",
    "obj_subs = U.subs(C2t_1, C2t_1_from_cons[0])\n",
    "foc1 = sm.diff(obj_subs, C1t)\n",
    "solve_1 = sm.solve(sm.Eq(foc1, 0), C1t)\n",
    "opt_c1t = sm.Eq(C1t, solve_1[0])\n",
    "\n",
    "c1t_from_cons = sm.solve(cons1_with_st, C1t)\n",
    "obj_subs = U.subs(C1t, c1t_from_cons[0])\n",
    "foc2 = sm.diff(obj_subs, C2t_1)\n",
    "solve_2 = sm.solve(sm.Eq(foc2, 0), C2t_1)\n",
    "opt_c2t1 = sm.Eq(C2t_1, solve_2[0])\n",
    "\n",
    "euler = solve_2[0]/solve_1[0]\n",
    "euler_eq = sm.Eq(C2t_1/C1t, euler)\n",
    "\n",
    "print('optimal Consumption in period 1:')\n",
    "display(opt_c1t)\n",
    "print('optimal Consumption in period 2:')\n",
    "display(opt_c2t1)\n",
    "print('Euler Equation:')\n",
    "display(euler_eq)\n",
    "\n"
   ]
  },
  {
   "cell_type": "code",
   "execution_count": 25,
   "metadata": {},
   "outputs": [
    {
     "name": "stdout",
     "output_type": "stream",
     "text": [
      "Saving Equation:\n"
     ]
    },
    {
     "data": {
      "image/png": "[encoded data removed]",
      "text/latex": [
       "$\\displaystyle S_{t} = - C_{1t} + w_{t}$"
      ],
      "text/plain": [
       "Sₜ = -C₁ₜ + wₜ"
      ]
     },
     "metadata": {},
     "output_type": "display_data"
    },
    {
     "name": "stdout",
     "output_type": "stream",
     "text": [
      "Insert optimal first period consumption:\n"
     ]
    },
    {
     "data": {
      "image/png": "[encoded data removed]",
      "text/latex": [
       "$\\displaystyle S_{t} = w_{t} - \\frac{w_{t}}{\\beta + 1}$"
      ],
      "text/plain": [
       "            wₜ \n",
       "Sₜ = wₜ - ─────\n",
       "          β + 1"
      ]
     },
     "metadata": {},
     "output_type": "display_data"
    },
    {
     "name": "stdout",
     "output_type": "stream",
     "text": [
      "Simplify:\n"
     ]
    },
    {
     "data": {
      "image/png": "[encoded data removed]",
      "text/latex": [
       "$\\displaystyle S_{t} = \\frac{\\beta w_{t}}{\\beta + 1}$"
      ],
      "text/plain": [
       "      β⋅wₜ\n",
       "Sₜ = ─────\n",
       "     β + 1"
      ]
     },
     "metadata": {},
     "output_type": "display_data"
    }
   ],
   "source": [
    "#Savings\n",
    "\n",
    "savings_P1 = sm.solve(cons1, St)\n",
    "savings_P1_eq = sm.Eq(St, savings_P1[0])\n",
    "savings = savings_P1_eq.subs(C1t, solve_1[0])\n",
    "simple_savings = sm.simplify(savings)\n",
    "\n",
    "print('Saving Equation:')\n",
    "display(savings_P1_eq)\n",
    "print('Insert optimal first period consumption:')\n",
    "display(savings)\n",
    "print('Simplify:')\n",
    "display(simple_savings)\n"
   ]
  },
  {
   "attachments": {},
   "cell_type": "markdown",
   "metadata": {},
   "source": [
    "From the savings equation we can see that savings is not dependent on $ r_{t+1} $."
   ]
  },
  {
   "cell_type": "markdown",
   "metadata": {},
   "source": [
    "# Model description"
   ]
  },
  {
   "cell_type": "markdown",
   "metadata": {},
   "source": [
    "**Write out the model in equations here.** \n",
    "\n",
    "Make sure you explain well the purpose of the model and comment so that other students who may not have seen it before can follow.  "
   ]
  },
  {
   "cell_type": "markdown",
   "metadata": {},
   "source": [
    "## Analytical solution"
   ]
  },
  {
   "cell_type": "markdown",
   "metadata": {},
   "source": [
    "If your model allows for an analytical solution, you should provide here.\n",
    "\n",
    "You may use Sympy for this. Then you can characterize the solution as a function of a parameter of the model.\n",
    "\n",
    "To characterize the solution, first derive a steady state equation as a function of a parameter using Sympy.solve and then turn it into a python function by Sympy.lambdify. See the lecture notes for details. "
   ]
  },
  {
   "cell_type": "markdown",
   "metadata": {},
   "source": [
    "## Numerical solution"
   ]
  },
  {
   "cell_type": "markdown",
   "metadata": {},
   "source": [
    "You can always solve a model numerically. \n",
    "\n",
    "Define first the set of parameters you need. \n",
    "\n",
    "Then choose one of the optimization algorithms that we have gone through in the lectures based on what you think is most fitting for your model.\n",
    "\n",
    "Are there any problems with convergence? Does the model converge for all starting values? Make a lot of testing to figure these things out. "
   ]
  },
  {
   "cell_type": "markdown",
   "metadata": {},
   "source": [
    "# Further analysis"
   ]
  },
  {
   "cell_type": "markdown",
   "metadata": {},
   "source": [
    "Make detailed vizualizations of how your model changes with parameter values. \n",
    "\n",
    "Try to make an extension of the model. "
   ]
  },
  {
   "cell_type": "markdown",
   "metadata": {},
   "source": [
    "# Conclusion"
   ]
  },
  {
   "cell_type": "markdown",
   "metadata": {},
   "source": [
    "Add concise conclusion. "
   ]
  }
 ],
 "metadata": {
  "kernelspec": {
   "display_name": "base",
   "language": "python",
   "name": "python3"
  },
  "language_info": {
   "codemirror_mode": {
    "name": "ipython",
    "version": 3
   },
   "file_extension": ".py",
   "mimetype": "text/x-python",
   "name": "python",
   "nbconvert_exporter": "python",
   "pygments_lexer": "ipython3",
   "version": "3.9.13"
  },
  "toc-autonumbering": true,
  "vscode": {
   "interpreter": {
    "hash": "66d5aef947e9d9a29a088e6f0b9f665aa73a8c33f5b7bfa8cef9615f81c0a2c0"
   }
  }
 },
 "nbformat": 4,
 "nbformat_minor": 4
}
