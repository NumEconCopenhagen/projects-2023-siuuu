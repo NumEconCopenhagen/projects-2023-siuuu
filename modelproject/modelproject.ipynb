{
 "cells": [
  {
   "attachments": {},
   "cell_type": "markdown",
   "metadata": {},
   "source": [
    "# OLG Economy (Diamond Model)\n",
    "\n",
    "The Overlapping Generations (OLG) Diamond model, developed by Peter Diamond in the 1960s, is a widely used framework in economics to examine intergenerational dynamics and various economic phenomena. This model offers valuable insights into the interactions between different generations, capital accumulation, and economic growth.\n",
    "\n",
    "One key feature of the OLG Diamond model is its intergenerational aspect. The model assumes that individuals are born into the young generation and progress through the life cycle. When individuals reach the old stage, they retire and transfer their accumulated wealth to the next generation. This intergenerational transfer mechanism is a fundamental aspect of the model and plays a crucial role in determining economic outcomes and welfare.\n",
    "\n",
    "We will investigate how households optimize their consumption, saving, and labor supply decisions over their lifetimes. By examining the equilibrium conditions of the model, we aim to understand the factors that drive consumption, savings, and welfare outcomes in an OLG Diamond framework.\n",
    "\n",
    "Within the model, household utility is given by:\n",
    "\n",
    "$$ U = \\ln(c_{1t}) + \\beta \\ln(c_{2t+1}), \\beta \\in [0,1]$$\n",
    "\n",
    "The single period dynamic budget constraints are:\n",
    "\n",
    "$$ c_{1t} = w_t - s_t $$\n",
    "$$ c_{2t+1} = (1+r_{t+1}) s_t $$\n",
    "\n",
    "The intertemporal Budget Constraint (IBC) is:\n",
    "\n",
    "$$ c_{1t} + \\frac{c_{2t+1}}{1+r_{t+1}} = w_t $$\n",
    "\n"
   ]
  },
  {
   "attachments": {},
   "cell_type": "markdown",
   "metadata": {},
   "source": [
    "We start off by importing all the relevant packages for our analysis"
   ]
  },
  {
   "cell_type": "code",
   "execution_count": 2,
   "metadata": {},
   "outputs": [
    {
     "name": "stderr",
     "output_type": "stream",
     "text": [
      "C:\\Users\\click\\AppData\\Local\\Temp\\ipykernel_4592\\3595149395.py:8: MatplotlibDeprecationWarning: The seaborn styles shipped by Matplotlib are deprecated since 3.6, as they no longer correspond to the styles shipped by seaborn. However, they will remain available as 'seaborn-v0_8-<style>'. Alternatively, directly use the seaborn API instead.\n",
      "  plt.style.use('seaborn-whitegrid')\n"
     ]
    }
   ],
   "source": [
    "import numpy as np\n",
    "from scipy import optimize\n",
    "import sympy as sm\n",
    "sm.init_printing(use_unicode=True)\n",
    "\n",
    "%matplotlib inline\n",
    "import matplotlib.pyplot as plt\n",
    "plt.style.use('seaborn-whitegrid')\n",
    "from matplotlib import cm\n",
    "import ipywidgets as widgets"
   ]
  },
  {
   "attachments": {},
   "cell_type": "markdown",
   "metadata": {},
   "source": [
    "We now define all the variables and parameters wich we make use of within the model. "
   ]
  },
  {
   "cell_type": "code",
   "execution_count": 3,
   "metadata": {},
   "outputs": [],
   "source": [
    "# Variables and parameters from utility function\n",
    "C1t = sm.symbols('C_1t')\n",
    "C2t_1 = sm.symbols('C_2t+1')\n",
    "U_t = sm.symbols('U_t')\n",
    "\n",
    "# Variables and parameters from budget constraint and period constraints\n",
    "alpha = sm.symbols('alpha')\n",
    "beta = sm.symbols('beta')\n",
    "w_t = sm.symbols('w_t')\n",
    "k_t = sm.symbols('k_t')\n",
    "r_t = sm.symbols('r_t')\n",
    "r_t1 = sm.symbols('r_t+1')\n",
    "\n",
    "A = sm.symbols('A') \n",
    "St = sm.symbols('S_t') \n",
    "s = sm.symbols('s(r_t+1)') \n",
    "yt = sm.symbols('y_t')\n"
   ]
  },
  {
   "cell_type": "code",
   "execution_count": 4,
   "metadata": {},
   "outputs": [
    {
     "name": "stdout",
     "output_type": "stream",
     "text": [
      "Budget constraints are given as:\n"
     ]
    },
    {
     "data": {
      "image/png": "[encoded data removed]",
      "text/latex": [
       "$\\displaystyle C_{1t} + S_{t} = w_{t}$"
      ],
      "text/plain": [
       "C₁ₜ + Sₜ = wₜ"
      ]
     },
     "metadata": {},
     "output_type": "display_data"
    },
    {
     "data": {
      "image/png": "[encoded data removed]",
      "text/latex": [
       "$\\displaystyle C_{2t+1} = S_{t} \\left(r_{t+1} + 1\\right)$"
      ],
      "text/plain": [
       "C₂ₜ₊₁ = Sₜ⋅(rₜ₊₁ + 1)"
      ]
     },
     "metadata": {},
     "output_type": "display_data"
    },
    {
     "name": "stdout",
     "output_type": "stream",
     "text": [
      "Then we combine the constraints:\n"
     ]
    },
    {
     "data": {
      "image/png": "[encoded data removed]",
      "text/latex": [
       "$\\displaystyle C_{1t} + \\frac{C_{2t+1}}{r_{t+1} + 1} = w_{t}$"
      ],
      "text/plain": [
       "       C₂ₜ₊₁       \n",
       "C₁ₜ + ──────── = wₜ\n",
       "      rₜ₊₁ + 1     "
      ]
     },
     "metadata": {},
     "output_type": "display_data"
    }
   ],
   "source": [
    "# Defining utility function and constraints\n",
    "U = sm.log(C1t) + beta * sm.log(C2t_1)\n",
    "cons1 = sm.Eq(C1t + St, w_t)\n",
    "cons2 = sm.Eq(C2t_1, (1+r_t1)*St)\n",
    "\n",
    "# To find one budget constraint we solve for s_t:\n",
    "st_from_cons2 = sm.solve(cons2, St)\n",
    "cons1_with_st = cons1.subs(St, st_from_cons2[0])\n",
    "\n",
    "print('Budget constraints are given as:')\n",
    "display(cons1)\n",
    "display(cons2)\n",
    "print('Then we combine the constraints:')\n",
    "display(cons1_with_st)\n",
    "\n",
    "\n"
   ]
  },
  {
   "cell_type": "code",
   "execution_count": 6,
   "metadata": {},
   "outputs": [
    {
     "name": "stdout",
     "output_type": "stream",
     "text": [
      "optimal Consumption in period 1:\n"
     ]
    },
    {
     "data": {
      "image/png": "[encoded data removed]",
      "text/latex": [
       "$\\displaystyle C_{1t} = \\frac{w_{t}}{\\beta + 1}$"
      ],
      "text/plain": [
       "        wₜ \n",
       "C₁ₜ = ─────\n",
       "      β + 1"
      ]
     },
     "metadata": {},
     "output_type": "display_data"
    },
    {
     "name": "stdout",
     "output_type": "stream",
     "text": [
      "optimal Consumption in period 2:\n"
     ]
    },
    {
     "data": {
      "image/png": "[encoded data removed]",
      "text/latex": [
       "$\\displaystyle C_{2t+1} = \\frac{\\beta w_{t} \\left(r_{t+1} + 1\\right)}{\\beta + 1}$"
      ],
      "text/plain": [
       "        β⋅wₜ⋅(rₜ₊₁ + 1)\n",
       "C₂ₜ₊₁ = ───────────────\n",
       "             β + 1     "
      ]
     },
     "metadata": {},
     "output_type": "display_data"
    },
    {
     "name": "stdout",
     "output_type": "stream",
     "text": [
      "Euler Equation:\n"
     ]
    },
    {
     "data": {
      "image/png": "[encoded data removed]",
      "text/latex": [
       "$\\displaystyle \\frac{C_{2t+1}}{C_{1t}} = \\beta \\left(r_{t+1} + 1\\right)$"
      ],
      "text/plain": [
       "C₂ₜ₊₁               \n",
       "───── = β⋅(rₜ₊₁ + 1)\n",
       " C₁ₜ                "
      ]
     },
     "metadata": {},
     "output_type": "display_data"
    }
   ],
   "source": [
    "# We solve for C2_t+1 and substitute its value into the utility function\n",
    "C2t_1_from_cons = sm.solve(cons1_with_st, C2t_1)\n",
    "obj_subs = U.subs(C2t_1, C2t_1_from_cons[0])\n",
    "\n",
    "# We calculate the optimal value of C1t\n",
    "foc1 = sm.diff(obj_subs, C1t)\n",
    "solve_1 = sm.solve(sm.Eq(foc1, 0), C1t)\n",
    "opt_c1t = sm.Eq(C1t, solve_1[0])\n",
    "\n",
    "# We solve for C_1t and substitute its value into the utility function\n",
    "c1t_from_cons = sm.solve(cons1_with_st, C1t)\n",
    "obj_subs = U.subs(C1t, c1t_from_cons[0])\n",
    "\n",
    "# Calculate the optimal value of C2t_1\n",
    "foc2 = sm.diff(obj_subs, C2t_1)\n",
    "solve_2 = sm.solve(sm.Eq(foc2, 0), C2t_1)\n",
    "opt_c2t1 = sm.Eq(C2t_1, solve_2[0])\n",
    "\n",
    "# We find the euler equation\n",
    "euler = solve_2[0]/solve_1[0]\n",
    "euler_eq = sm.Eq(C2t_1/C1t, euler)\n",
    "\n",
    "# print the results\n",
    "print('optimal Consumption in period 1:')\n",
    "display(opt_c1t)\n",
    "print('optimal Consumption in period 2:')\n",
    "display(opt_c2t1)\n",
    "print('Euler Equation:')\n",
    "display(euler_eq)\n",
    "\n"
   ]
  },
  {
   "attachments": {},
   "cell_type": "markdown",
   "metadata": {},
   "source": [
    "The Euler equation represents the intertemporal trade-off between consumption in two time periods.\n",
    "It shows how the marginal utility of consumption in period 1 is related to the marginal utility inm period 2.\n",
    "It expresses the equilibrium condition in the Diamond overlapping generations (OLG) model."
   ]
  },
  {
   "cell_type": "code",
   "execution_count": 9,
   "metadata": {},
   "outputs": [
    {
     "name": "stdout",
     "output_type": "stream",
     "text": [
      "Saving Equation:\n"
     ]
    },
    {
     "data": {
      "image/png": "[encoded data removed]",
      "text/latex": [
       "$\\displaystyle S_{t} = - C_{1t} + w_{t}$"
      ],
      "text/plain": [
       "Sₜ = -C₁ₜ + wₜ"
      ]
     },
     "metadata": {},
     "output_type": "display_data"
    },
    {
     "name": "stdout",
     "output_type": "stream",
     "text": [
      "Insert optimal first period consumption:\n"
     ]
    },
    {
     "data": {
      "image/png": "[encoded data removed]",
      "text/latex": [
       "$\\displaystyle S_{t} = w_{t} - \\frac{w_{t}}{\\beta + 1}$"
      ],
      "text/plain": [
       "            wₜ \n",
       "Sₜ = wₜ - ─────\n",
       "          β + 1"
      ]
     },
     "metadata": {},
     "output_type": "display_data"
    },
    {
     "name": "stdout",
     "output_type": "stream",
     "text": [
      "Simplify:\n"
     ]
    },
    {
     "data": {
      "image/png": "[encoded data removed]",
      "text/latex": [
       "$\\displaystyle S_{t} = \\frac{\\beta w_{t}}{\\beta + 1}$"
      ],
      "text/plain": [
       "      β⋅wₜ\n",
       "Sₜ = ─────\n",
       "     β + 1"
      ]
     },
     "metadata": {},
     "output_type": "display_data"
    }
   ],
   "source": [
    "# Optimal savings calculations\n",
    "savings_P1 = sm.solve(cons1, St)\n",
    "savings_P1_eq = sm.Eq(St, savings_P1[0])\n",
    "savings = savings_P1_eq.subs(C1t, solve_1[0])\n",
    "simple_savings = sm.simplify(savings)\n",
    "\n",
    "# print results\n",
    "print('Saving Equation:')\n",
    "display(savings_P1_eq)\n",
    "print('Insert optimal first period consumption:')\n",
    "display(savings)\n",
    "print('Simplify:')\n",
    "display(simple_savings)\n"
   ]
  },
  {
   "attachments": {},
   "cell_type": "markdown",
   "metadata": {},
   "source": [
    "From the savings equation we can see that savings is not dependent on $ r_{t+1} $. Savings is solely dependent on the income received in period, aswell as the impatience parameter $\\beta$.  Now that we have derived household behavior in this economy, we can derive the production side, and how the economy develoopes through time - capital accumulation. Lastly we can derive the steady state dynamics of this economy. "
   ]
  },
  {
   "cell_type": "code",
   "execution_count": 10,
   "metadata": {},
   "outputs": [
    {
     "name": "stdout",
     "output_type": "stream",
     "text": [
      "production function:\n"
     ]
    },
    {
     "data": {
      "image/png": "[encoded data removed]",
      "text/latex": [
       "$\\displaystyle y_{t} = A k_{t}^{\\alpha}$"
      ],
      "text/plain": [
       "         α\n",
       "yₜ = A⋅kₜ "
      ]
     },
     "metadata": {},
     "output_type": "display_data"
    }
   ],
   "source": [
    "# We define the production function using total factor productivity (TFP) and capital.\n",
    "f = A*k_t**alpha\n",
    "print('production function:')\n",
    "display(sm.Eq(yt, f))"
   ]
  },
  {
   "cell_type": "code",
   "execution_count": 11,
   "metadata": {},
   "outputs": [
    {
     "name": "stdout",
     "output_type": "stream",
     "text": [
      "Interest Rate:\n"
     ]
    },
    {
     "data": {
      "image/png": "[encoded data removed]",
      "text/latex": [
       "$\\displaystyle r_{t} = A \\alpha k_{t}^{\\alpha - 1}$"
      ],
      "text/plain": [
       "           α - 1\n",
       "rₜ = A⋅α⋅kₜ     "
      ]
     },
     "metadata": {},
     "output_type": "display_data"
    }
   ],
   "source": [
    "# We derive the interest rate \n",
    "interest_rate = sm.diff(f,k_t)\n",
    "interest_rate = sm.simplify(interest_rate)\n",
    "print('Interest Rate:')\n",
    "display(sm.Eq(r_t,interest_rate))"
   ]
  },
  {
   "cell_type": "code",
   "execution_count": 13,
   "metadata": {},
   "outputs": [
    {
     "name": "stdout",
     "output_type": "stream",
     "text": [
      "Wage Rate per Unit of Effective Labor:\n"
     ]
    },
    {
     "data": {
      "image/png": "[encoded data removed]",
      "text/latex": [
       "$\\displaystyle w_{t} = A k_{t}^{\\alpha} \\left(1 - \\alpha\\right)$"
      ],
      "text/plain": [
       "         α        \n",
       "wₜ = A⋅kₜ ⋅(1 - α)"
      ]
     },
     "metadata": {},
     "output_type": "display_data"
    }
   ],
   "source": [
    "# We derive the wage rate\n",
    "wage = f-sm.diff(f,k_t)*k_t\n",
    "wage = sm.simplify(wage)\n",
    "print('Wage Rate per Unit of Effective Labor:')\n",
    "display(sm.Eq(w_t,wage))"
   ]
  },
  {
   "cell_type": "code",
   "execution_count": 14,
   "metadata": {},
   "outputs": [
    {
     "name": "stdout",
     "output_type": "stream",
     "text": [
      "Transition Equation:\n"
     ]
    },
    {
     "data": {
      "image/png": "[encoded data removed]",
      "text/latex": [
       "$\\displaystyle k_{t+1} = \\frac{\\beta w_{t}}{\\left(\\beta + 1\\right) \\left(n + 1\\right)}$"
      ],
      "text/plain": [
       "             β⋅wₜ     \n",
       "kₜ₊₁ = ───────────────\n",
       "       (β + 1)⋅(n + 1)"
      ]
     },
     "metadata": {},
     "output_type": "display_data"
    }
   ],
   "source": [
    "# We derive the transition equation\n",
    "kt1 = sm.symbols('k_t+1')\n",
    "\n",
    "g = sm.symbols('g')\n",
    "n = sm.symbols('n')\n",
    "\n",
    "transition_int = sm.Eq(kt1, 1/(1+n) * beta/(1+beta) *w_t)\n",
    "print('Transition Equation:')\n",
    "display(transition_int)"
   ]
  },
  {
   "cell_type": "code",
   "execution_count": 15,
   "metadata": {},
   "outputs": [
    {
     "name": "stdout",
     "output_type": "stream",
     "text": [
      "Transition Equation with Saving and Wage rates plugged-in:\n"
     ]
    },
    {
     "data": {
      "image/png": "[encoded data removed]",
      "text/latex": [
       "$\\displaystyle k_{t+1} = \\frac{A \\beta k_{t}^{\\alpha} \\left(1 - \\alpha\\right)}{\\left(\\beta + 1\\right) \\left(n + 1\\right)}$"
      ],
      "text/plain": [
       "             α        \n",
       "       A⋅β⋅kₜ ⋅(1 - α)\n",
       "kₜ₊₁ = ───────────────\n",
       "       (β + 1)⋅(n + 1)"
      ]
     },
     "metadata": {},
     "output_type": "display_data"
    }
   ],
   "source": [
    "# Insert savinmgs and wage rate\n",
    "transition_int2 = transition_int.subs(w_t,wage)\n",
    "print('Transition Equation with Saving and Wage rates plugged-in:')\n",
    "display(transition_int2)"
   ]
  },
  {
   "cell_type": "code",
   "execution_count": 20,
   "metadata": {},
   "outputs": [
    {
     "name": "stdout",
     "output_type": "stream",
     "text": [
      "In SS k is constant:\n"
     ]
    },
    {
     "data": {
      "image/png": "[encoded data removed]",
      "text/latex": [
       "$\\displaystyle k_{t+1} = \\frac{A \\beta k_{t}^{\\alpha} \\left(1 - \\alpha\\right)}{\\left(\\beta + 1\\right) \\left(n + 1\\right)}$"
      ],
      "text/plain": [
       "             α        \n",
       "       A⋅β⋅kₜ ⋅(1 - α)\n",
       "kₜ₊₁ = ───────────────\n",
       "       (β + 1)⋅(n + 1)"
      ]
     },
     "metadata": {},
     "output_type": "display_data"
    }
   ],
   "source": [
    "# We derive the staeady state level of capital accumulation\n",
    "steady_state = transition_int2.subs(kt1,k_t)\n",
    "print('In SS k is constant:')\n",
    "display(steady_state)"
   ]
  },
  {
   "cell_type": "code",
   "execution_count": 17,
   "metadata": {},
   "outputs": [
    {
     "name": "stdout",
     "output_type": "stream",
     "text": [
      "Steady-State k:\n"
     ]
    },
    {
     "data": {
      "image/png": "[encoded data removed]",
      "text/latex": [
       "$\\displaystyle \\left(\\frac{A \\beta \\left(1 - \\alpha\\right)}{\\beta n + \\beta + n + 1}\\right)^{- \\frac{1}{\\alpha - 1}}$"
      ],
      "text/plain": [
       "                  -1  \n",
       "                 ─────\n",
       "                 α - 1\n",
       "⎛  A⋅β⋅(1 - α)  ⎞     \n",
       "⎜───────────────⎟     \n",
       "⎝β⋅n + β + n + 1⎠     "
      ]
     },
     "metadata": {},
     "output_type": "display_data"
    }
   ],
   "source": [
    "k_steady_state = sm.solve(steady_state,k_t)[0]\n",
    "print('Steady-State k:')\n",
    "display(k_steady_state)"
   ]
  },
  {
   "attachments": {},
   "cell_type": "markdown",
   "metadata": {},
   "source": [
    "We now illustrate how this economy transitions towards its steady state level of capital accumulation."
   ]
  },
  {
   "cell_type": "code",
   "execution_count": 21,
   "metadata": {},
   "outputs": [
    {
     "data": {
      "text/plain": [
       "<function matplotlib.pyplot.show(close=None, block=None)>"
      ]
     },
     "execution_count": 21,
     "metadata": {},
     "output_type": "execute_result"
    },
    {
     "data": {
      "image/png": "[encoded data removed]",
      "text/plain": [
       "<Figure size 640x480 with 1 Axes>"
      ]
     },
     "metadata": {},
     "output_type": "display_data"
    }
   ],
   "source": [
    "#Define parameters\n",
    "alpha = 0.33\n",
    "beta = 0.22\n",
    "tau = 0.18\n",
    "A = 10\n",
    "n = 0.04\n",
    "\n",
    "#we let $k_t$ be in [0,50]\n",
    "k_t = np.linspace(0,50)\n",
    "\n",
    "#We define capital accumulation and steady state\n",
    "k_t1 = (A*beta*k_t**alpha*(1-alpha))/((beta+1)*(1+n))\n",
    "\n",
    "ss_k = ((A*beta*(1-alpha))/(beta*n + beta + n +1)**(-1/(alpha-1)))\n",
    "\n",
    "plt.plot(k_t1)\n",
    "plt.title('Capital accumulation')\n",
    "plt.ylabel('k_t+1')\n",
    "plt.xlabel('k_t')\n",
    "plt.show"
   ]
  },
  {
   "cell_type": "code",
   "execution_count": 19,
   "metadata": {},
   "outputs": [
    {
     "name": "stdout",
     "output_type": "stream",
     "text": [
      "steady state:\n",
      "1.0331879190712787\n"
     ]
    }
   ],
   "source": [
    "# What is the steady state level of capital?\n",
    "print('steady state:')\n",
    "print(ss_k)"
   ]
  },
  {
   "attachments": {},
   "cell_type": "markdown",
   "metadata": {},
   "source": [
    "In conclusion, the general Diamond Overlapping Generations (OLG) model captures intergenerational dynamics and explores the implications of individual decisions on savings, consumption, and capital accumulation over time. The model's dynamics reveal how various factors interact to shape the long-term outcomes of an economy. At the core of the model are intergenerational transfers, where individuals save in the first period and pass on their savings as capital to the next generation. This transfer of resources affects both the level of capital accumulation and the welfare of different generations. Savings decisions are key drivers of the model's dynamics, as individuals choose how much to consume in the current period and how much to save for the next period. The intertemporal trade-offs inherent in the Diamond OLG model play a vital role. Individuals must weigh their preferences for present versus future consumption, considering factors such as time preferences, discount rates, and expectations of future income and returns. These trade-offs influence savings decisions and shape the accumulation of capital, which, in turn, affects productivity, output, and future consumption possibilities.\n",
    "\n",
    "Achieving equilibrium is essential in the model, where individual choices align with market conditions. Equilibrium conditions such as the intertemporal budget constraint, production function, and factor prices play a role in ensuring consistency across generations. Market forces and incentives drive the interplay between savings and investment, enabling the allocation of resources and balancing the economy. The Diamond OLG model also has important policy implications. It allows for the analysis of various policy interventions on savings, capital accumulation, and intergenerational welfare. By exploring changes in tax policy, social security systems, retirement age, or educational investments, policymakers can assess the long-term consequences of policy choices and their impact on future generations' well-being."
   ]
  }
 ],
 "metadata": {
  "kernelspec": {
   "display_name": "base",
   "language": "python",
   "name": "python3"
  },
  "language_info": {
   "codemirror_mode": {
    "name": "ipython",
    "version": 3
   },
   "file_extension": ".py",
   "mimetype": "text/x-python",
   "name": "python",
   "nbconvert_exporter": "python",
   "pygments_lexer": "ipython3",
   "version": "3.9.16"
  },
  "toc-autonumbering": true,
  "vscode": {
   "interpreter": {
    "hash": "66d5aef947e9d9a29a088e6f0b9f665aa73a8c33f5b7bfa8cef9615f81c0a2c0"
   }
  }
 },
 "nbformat": 4,
 "nbformat_minor": 4
}
