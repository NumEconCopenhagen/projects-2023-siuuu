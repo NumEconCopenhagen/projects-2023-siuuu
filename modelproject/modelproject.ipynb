{
 "cells": [
  {
   "attachments": {},
   "cell_type": "markdown",
   "metadata": {},
   "source": [
    "**Table of contents**<a id='toc0_'></a>   \n",
    "- 1. [Imports](#toc1_)     \n",
    "- 2. [OverLapping Generations (OLG) model](#toc2_)    \n",
    "- 3. [Solution and simulation](#toc3_)    \n",
    "- 4. [Without Government](#toc4_)  \n",
    " 4.1. [Simulation](#toc4_1_)      \n",
    "- 5. [Model with Government](#toc5_)    \n",
    "- 6. [Affect of Government Spending Spree](#toc6_)    \n"
   ]
  },
  {
   "attachments": {},
   "cell_type": "markdown",
   "metadata": {},
   "source": [
    "## 1. <a id='toc1_'></a>[Imports](#toc1_)"
   ]
  },
  {
   "cell_type": "code",
   "execution_count": 1,
   "metadata": {},
   "outputs": [
    {
     "name": "stderr",
     "output_type": "stream",
     "text": [
      "C:\\Users\\click\\AppData\\Local\\Temp\\ipykernel_12740\\2680176437.py:9: MatplotlibDeprecationWarning: The seaborn styles shipped by Matplotlib are deprecated since 3.6, as they no longer correspond to the styles shipped by seaborn. However, they will remain available as 'seaborn-v0_8-<style>'. Alternatively, directly use the seaborn API instead.\n",
      "  plt.style.use('seaborn-whitegrid')\n"
     ]
    }
   ],
   "source": [
    "import numpy as np\n",
    "from scipy import optimize\n",
    "import sympy as sm\n",
    "import pandas as pd\n",
    "sm.init_printing(use_unicode=True)\n",
    "\n",
    "%matplotlib inline\n",
    "import matplotlib.pyplot as plt\n",
    "plt.style.use('seaborn-whitegrid')\n",
    "from matplotlib import cm\n",
    "from matplotlib import rc\n",
    "import matplotlib.ticker as ticker\n",
    "import ipywidgets as widgets\n",
    "from OLGMODEL import OLGModelClass\n",
    "from OLGMODEL import simulate_before_s, simulate_after_s, find_s_bracket, calc_euler_error"
   ]
  },
  {
   "attachments": {},
   "cell_type": "markdown",
   "metadata": {},
   "source": [
    "## 2. <a id='toc2_'></a>[OverLapping Generations (OLG) model](#toc2_)"
   ]
  },
  {
   "attachments": {},
   "cell_type": "markdown",
   "metadata": {},
   "source": [
    "\n",
    "The Overlapping Generations (OLG) Diamond model, developed by Peter Diamond in the 1960s, is a widely used framework in economics to examine intergenerational dynamics and various economic phenomena. This model offers valuable insights into the interactions between different generations, capital accumulation, and economic growth.\n",
    "\n",
    "One key feature of the OLG Diamond model is its intergenerational aspect. The model assumes that individuals are born into the young generation and progress through the life cycle. When individuals reach the old stage, they retire and transfer their accumulated wealth to the next generation. This intergenerational transfer mechanism is a fundamental aspect of the model and plays a crucial role in determining economic outcomes and welfare.\n",
    "\n",
    "We will investigate how households optimize their consumption, saving, and labor supply decisions over their lifetimes. By examining the equilibrium conditions of the model, we aim to understand how capital and output per capita develop. We first examine the case when government is not included in the model. We then extend the model to include government.\n",
    "**Time:** Discrete and indexed by $t\\in\\{0,1,\\dots\\}$.\n",
    "\n",
    "**Demographics:** Population is constant. A life consists of\n",
    "two periods, *young* and *old*.\n",
    "\n",
    "**Households:** As young a household supplies labor exogenously, $L_{t}=1$, and earns a after tax wage $(1-\\tau_w)w_{t}$. Consumption as young and old\n",
    "are denoted by $C_{1t}$ and $C_{2t+1}$. The after-tax return on saving is $(1-\\tau_{r})r_{t+1}$. Utility is\n",
    "    \n",
    "$$\n",
    "\\begin{aligned}\n",
    "U & =\\max_{s_{t}\\in[0,1]}\\frac{C_{1t}^{1-\\sigma}}{1-\\sigma}+\\beta\\frac{C_{1t+1}^{1-\\sigma}}{1-\\sigma},\\,\\,\\,\\beta > -1, \\sigma > 0\\\\\n",
    " & \\text{s.t.}\\\\\n",
    " & S_{t}=s_{t}(1-\\tau_{w})w_{t}\\\\\n",
    " & C_{1t}=(1-s_{t})(1-\\tau_{w})w_{t}\\\\\n",
    " & C_{2t+1}=(1+(1-\\tau_{r})r_{t+1})S_{t}\n",
    "\\end{aligned}\n",
    "$$\n",
    "    \n",
    "The problem is formulated in terms of the saving rate $s_t\\in[0,1]$.\n",
    "\n",
    "**Firms:** Firms rent capital $K_{t-1}$ at the rental rate $r_{t}^{K}$,\n",
    "and hires labor $E_{t}$ at the wage rate $w_{t}$. Firms have access\n",
    "to the production function\n",
    "    \n",
    "$$\n",
    "\\begin{aligned}\n",
    "Y_{t}=F(K_{t-1},E_{t})=(\\alpha K_{t-1}^{-\\theta}+(1-\\alpha)E_{t}^{-\\theta})^{\\frac{1}{-\\theta}},\\,\\,\\,\\theta>-1,\\alpha\\in(0,1)\n",
    "\\end{aligned}\n",
    "$$\n",
    "    \n",
    "Profits are\n",
    "    \n",
    "$$\n",
    "\\begin{aligned}\n",
    "\\Pi_{t}=Y_{t}-w_{t}E_{t}-r_{t}^{K}K_{t-1}\n",
    "\\end{aligned}\n",
    "$$\n",
    "\n",
    "**Government:** In the first case of the model we assume that government does not exist, so taxes $\\tau_w = 0$ and $\\tau_r = 0$. In the model extension where government exists, we have that:\n",
    "public consumption is $G_{t}$, and tax rates $\\tau_w \\in [0,1]$ and $\\tau_r \\in [0,1]$. Total tax revenue is\n",
    "    \n",
    "$$\n",
    "\\begin{aligned}\n",
    "T_{t} &=\\tau_r r_{t} (K_{t-1}+B_{t-1})+\\tau_w w_{t}   \n",
    "\\end{aligned}\n",
    "$$\n",
    "    \n",
    "Government debt accumulates according to\n",
    "    \n",
    "$$\n",
    "\\begin{aligned}\n",
    "B_{t} &=(1+r^b_{t})B_{t-1}-T_{t}+G_{t} \n",
    "\\end{aligned}\n",
    "$$\n",
    "       \n",
    "A *balanced budget* implies $G_{t}=T_{t}-r_{t}B_{t-1}$.\n",
    "\n",
    "**Capital:** Depreciates with a rate of $\\delta \\in [0,1]$.\n",
    "\n",
    "**Equilibrium:**\n",
    "1. Households maximize utility\n",
    "2. Firms maximize profits\n",
    "3. No-arbitrage between bonds and capital\n",
    "\n",
    "    $$\n",
    "    r_{t}=r_{t}^{K}-\\delta=r_{t}^{b}\n",
    "    $$\n",
    "\n",
    "4. Labor market clears: $E_{t}=L_{t}=1$\n",
    "5. Goods market clears: $Y_{t}=C_{1t}+C_{2t}+G_{t}+I_{t}$\n",
    "6. Asset market clears: $S_{t}=K_{t}+B_{t}$\n",
    "7. Capital follows its law of motion: $K_{t}=(1-\\delta)K_{t-1}+I_{t}$\n"
   ]
  },
  {
   "attachments": {},
   "cell_type": "markdown",
   "metadata": {},
   "source": [
    "### 3. <a id='toc3_'></a>[Solution and simulation](#toc3_)"
   ]
  },
  {
   "attachments": {},
   "cell_type": "markdown",
   "metadata": {},
   "source": [
    "**Implication of profit maximization:** From FOCs our rental rate of capital and wage rate look like:\n",
    "\n",
    "$$\n",
    "\\begin{aligned}\n",
    "r_{t}^{k} & =F_{K}(K_{t-1},E_{t})=\\alpha K_{t-1}^{-\\theta-1}Y_{t}^{1+\\theta}\\\\\n",
    "w_{t} & =F_{E}(K_{t-1},E_{t})=(1-\\alpha)E_{t}^{-\\theta-1}Y_{t}^{1+\\theta}\n",
    "\\end{aligned}\n",
    "$$\n",
    "\n",
    "**Implication of utility maximization:** From FOCs our euler ewaution looks like:\n",
    "\n",
    "$$\n",
    "\\begin{aligned}\n",
    "C_{1t}^{-\\sigma}=\\beta (1+(1-\\tau_r)r_{t+1})C_{2t+1}^{-\\sigma}\n",
    "\\end{aligned}\n",
    "$$\n",
    "\n",
    "**Simulation algorithm:** At the beginning of period $t$, the\n",
    "economy can be summarized in the state variables $K_{t-1}$ and $B_{t-1}$.  *Before* $s_t$ is known, we can calculate:\n",
    "\n",
    "$$\n",
    "\\begin{aligned}\n",
    "Y_{t} & =F(K_{t-1},1)\\\\\n",
    "r_{t}^{k} & =F_{K}(K_{t-1},1)\\\\\n",
    "w_{t} & =F_{E}(K_{t-1},1)\\\\\n",
    "r_{t} & =r^k_{t}-\\delta\\\\\n",
    "r_{t}^{b} & =r_{t}\\\\\n",
    "\\tilde{r}_{t} & =(1-\\tau_{r})r_{t}\\\\\n",
    "C_{2t} & =(1+\\tilde{r}_{t})(K_{t-1}+B_{t-1})\\\\\n",
    "T_{t} & =\\tau_{r}r_{t}(K_{t-1}+B_{t-1})+\\tau_{w}w_{t}\\\\\n",
    "B_{t} & =(1+r^b_{t})B_{t-1}+T_{t}-G_{t}\\\\\n",
    "\\end{aligned}\n",
    "$$\n",
    "\n",
    "*After* $s_t$ is known we can calculate:\n",
    "\n",
    "$$\n",
    "\\begin{aligned}\n",
    "C_{1t} & = (1-s_{t})(1-\\tau_{w})w_{t}\\\\\n",
    "I_{t} & =Y_{t}-C_{1t}-C_{2t}-G_{t}\\\\\n",
    "K_{t} & =(1-\\delta)K_{t-1} + I_t\n",
    "\\end{aligned}\n",
    "$$\n",
    "\n",
    "**Solution algorithm:** We simulate forward choosing $s_{t}$ such\n",
    "that the follwwing always holds:\n",
    "\n",
    "$$\n",
    "\\begin{aligned}\n",
    "C_{1t}^{-\\sigma}=\\beta(1+\\tilde{r}_{t+1})C_{2t+1}^{-\\sigma}\n",
    "\\end{aligned}\n",
    "$$\n",
    "\n",
    "**Implementation of the simulation:**\n",
    "\n",
    "1. We use a bisection root-finder to determine $s_t$\n",
    "2. Low $s_t$ $\\rightarrow$ A lot of consumption today. Low marginal utility. LHS < RHS.\n",
    "3. High $s_t$ $\\rightarrow$ Little consumption today. High marginal utility. LHS > RHS.\n",
    "4. Problem: Too low $s_t$ might not be feasible if $B_t > 0$.\n",
    "\n",
    "**Note:** Never errors in the Euler-equation due to *perfect foresight*.\n",
    "\n",
    "**Assumptions**\n",
    "1. Production is Cobb-Douglas ($\\theta = 0$)\n",
    "2. Utility is logarithmic ($\\sigma = 1$)"
   ]
  },
  {
   "attachments": {},
   "cell_type": "markdown",
   "metadata": {},
   "source": [
    "### 4. <a id='toc4_'></a>[Without Government](#toc4_)"
   ]
  },
  {
   "attachments": {},
   "cell_type": "markdown",
   "metadata": {},
   "source": [
    "Inour first model case we have the follwing due to the lack of government in the model:\n",
    "\n",
    "$\\tau_w=\\tau_r=0$, $T_t = G_t = 0$ and $B_t = 0$\n",
    "\n",
    "**Analytical steady state:** It can be proven that:\n",
    "\n",
    "$$ \\lim_{t\\rightarrow\\infty} K_t = \\left(\\frac{1-\\alpha}{1+1/\\beta}\\right)^{\\frac{1}{1-\\alpha}} $$"
   ]
  },
  {
   "attachments": {},
   "cell_type": "markdown",
   "metadata": {},
   "source": [
    "We now implement the parameter-values introduced above such that we can simulate the model without government"
   ]
  },
  {
   "cell_type": "code",
   "execution_count": 2,
   "metadata": {},
   "outputs": [],
   "source": [
    "# We define the model\n",
    "model = OLGModelClass()\n",
    "par = model.par # SimpeNamespace\n",
    "sim = model.sim # SimpeNamespace\n",
    "\n",
    "# no government\n",
    "par.tau_w = 0.0\n",
    "par.tau_r = 0.0\n",
    "#sim.balanced_budget[:] = True # G changes to achieve this\n",
    "\n",
    "# steady state and initial values\n",
    "K_ss_1 = ((1-par.alpha)/((1+1.0/par.beta)))**(1/(1-par.alpha))\n"
   ]
  },
  {
   "attachments": {},
   "cell_type": "markdown",
   "metadata": {},
   "source": [
    "### 4.1 <a id='toc4_1_'></a>[Simulation ](#toc4_1_)"
   ]
  },
  {
   "attachments": {},
   "cell_type": "markdown",
   "metadata": {},
   "source": [
    "We now simulate the model and store the capital and production development"
   ]
  },
  {
   "cell_type": "code",
   "execution_count": 3,
   "metadata": {},
   "outputs": [],
   "source": [
    "# Simulation\n",
    "model.simulate()\n",
    "# steady state production\n",
    "Y_ss_1 = sim.Y[-1]\n",
    "\n",
    "# Dataframes that collect model capital and porduciton without government\n",
    "K_noGov = model.sim.K_lag.copy()\n",
    "Y_noGOV = model.sim.Y.copy()"
   ]
  },
  {
   "attachments": {},
   "cell_type": "markdown",
   "metadata": {},
   "source": [
    "### 5 <a id='toc5_'></a>[Model with Government](#toc5_)"
   ]
  },
  {
   "attachments": {},
   "cell_type": "markdown",
   "metadata": {},
   "source": [
    "With Government we now set the follwing parameter values to be some level > 0:\n",
    "\n",
    "$\\tau_w=0.1$, $\\tau_r=0.2$\n",
    "\n",
    "$T_t = G_t = B_t > 0$"
   ]
  },
  {
   "cell_type": "code",
   "execution_count": 7,
   "metadata": {},
   "outputs": [
    {
     "data": {
      "image/png": "[encoded data removed]",
      "text/plain": [
       "<Figure size 600x400 with 1 Axes>"
      ]
     },
     "metadata": {},
     "output_type": "display_data"
    }
   ],
   "source": [
    "# Call the model again including Government\n",
    "model = OLGModelClass()\n",
    "par = model.par\n",
    "sim = model.sim\n",
    "model.simulate()\n",
    "\n",
    "K_ss_2 = sim.Y[-1]\n",
    "Y_ss_2 = sim.K_lag[-1]\n",
    "\n",
    "K_Gov = model.sim.K_lag.copy()\n",
    "Y_GOV = model.sim.Y.copy()\n",
    "\n",
    "# Illustration of production and capital with and without Gov\n",
    "fig = plt.figure(figsize=(6,6/1.5))\n",
    "ax = fig.add_subplot(1,1,1)\n",
    "ax.plot(Y_noGOV, label=r'$Y_{t}$')\n",
    "ax.plot(Y_GOV, label=r'$Y_{t}^G$')\n",
    "ax.plot(K_noGov,label=r'$K_{t-1}$')\n",
    "ax.plot(K_Gov,label=r'$K_{t-1}^G$')\n",
    "\n",
    "#steady state\n",
    "ax.axhline(K_ss_1,ls='--',color='black')\n",
    "ax.axhline(Y_ss_1,ls='--',color='black')\n",
    "ax.axhline(K_ss_2,ls='--',color='black')\n",
    "ax.axhline(Y_ss_2,ls='--',color='black')\n",
    "\n",
    "# layout formatting\n",
    "ax.legend(frameon=True)\n",
    "ax.set_title('Production and Capital development with and without Gov')\n",
    "fig.tight_layout()\n"
   ]
  },
  {
   "attachments": {},
   "cell_type": "markdown",
   "metadata": {},
   "source": [
    "We immediatly see that the steady state values of capital and production are lower in the OlG model with Government.\n",
    "This implies that the mere existence of a government that imposes taxes and takes on public debt in the OLG model leads to a loss in income as the economy approaches its steady state level.  "
   ]
  },
  {
   "attachments": {},
   "cell_type": "markdown",
   "metadata": {},
   "source": [
    "### 6 <a id='toc6_'></a>[Affect of Government Spending Spree](#toc6_)"
   ]
  },
  {
   "attachments": {},
   "cell_type": "markdown",
   "metadata": {},
   "source": [
    "We now assume that the Government is introduced to the economy, after it has reached its steady state level. We then assume that the Government goes on a spending spree for T=3 periods. We evaluate how this affects the steady state level of capital and production."
   ]
  },
  {
   "cell_type": "code",
   "execution_count": 10,
   "metadata": {},
   "outputs": [
    {
     "data": {
      "text/plain": [
       "Text(0.5, 1.0, 'Production and Capital development after spending spree')"
      ]
     },
     "execution_count": 10,
     "metadata": {},
     "output_type": "execute_result"
    },
    {
     "data": {
      "image/png": "[encoded data removed]",
      "text/plain": [
       "<Figure size 600x400 with 1 Axes>"
      ]
     },
     "metadata": {},
     "output_type": "display_data"
    }
   ],
   "source": [
    "# Government steady state values\n",
    "B_ss = sim.B_lag[-1]\n",
    "G_ss = sim.G[-1]\n",
    "\n",
    "# set the inmitial capital stock to be equal to the noGov steady state level\n",
    "par.B_lag_ini = B_ss\n",
    "par.K_lag_ini = K_ss_1\n",
    "\n",
    "# Government goes on a spending spree\n",
    "T0 = 0\n",
    "dT = 3\n",
    "sim.G[T0:T0+dT] = 1.05*G_ss\n",
    "sim.balanced_budget[:T0] = True #G adjusts\n",
    "sim.balanced_budget[T0:T0+dT] = False # B adjusts\n",
    "sim.balanced_budget[T0+dT:] = True # G adjusts\n",
    "\n",
    "# simulate economy with spending spree\n",
    "model.simulate()\n",
    "\n",
    "# Illustration of production and capital\n",
    "fig = plt.figure(figsize=(6,6/1.5))\n",
    "ax = fig.add_subplot(1,1,1)\n",
    "ax.plot(model.sim.K_lag,label=r'$K_{t-1}^G$')\n",
    "ax.plot(model.sim.Y, label=r'$Y_{t}^G$')\n",
    "\n",
    "# steady state\n",
    "ax.axhline(K_ss_1,ls='--',color='black',label='$K^*$')\n",
    "ax.axhline(Y_ss_1,ls='--',color='black',label='$Y^*$')\n",
    "\n",
    "# layout formatting\n",
    "ax.legend(frameon=True)\n",
    "ax.set_title('')\n",
    "fig.tight_layout()\n",
    "ax.set_title('Production and Capital development after spending spree')"
   ]
  },
  {
   "attachments": {},
   "cell_type": "markdown",
   "metadata": {},
   "source": [
    "We see that the economies capital and production transition to a lower steady state after the government goes on a three preiod spending spree.\n",
    "\n",
    "All in all we can conclude from this analysis that the OLG model dynamics imply that when government is introduced, the result is an income loss.\n",
    "Furthermore we conclude that this income loss can both occur if government is introduced before the economy begins to develop towards its steady state level, and after it has reached its steady state level given that the government goes on a spending spree."
   ]
  }
 ],
 "metadata": {
  "kernelspec": {
   "display_name": "base",
   "language": "python",
   "name": "python3"
  },
  "language_info": {
   "codemirror_mode": {
    "name": "ipython",
    "version": 3
   },
   "file_extension": ".py",
   "mimetype": "text/x-python",
   "name": "python",
   "nbconvert_exporter": "python",
   "pygments_lexer": "ipython3",
   "version": "3.9.16"
  },
  "toc-autonumbering": true,
  "vscode": {
   "interpreter": {
    "hash": "66d5aef947e9d9a29a088e6f0b9f665aa73a8c33f5b7bfa8cef9615f81c0a2c0"
   }
  }
 },
 "nbformat": 4,
 "nbformat_minor": 4
}
